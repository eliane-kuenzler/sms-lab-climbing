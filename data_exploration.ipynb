{
 "cells": [
  {
   "cell_type": "markdown",
   "id": "507aa3c8-5a71-4b30-8f8c-b56c27d0ae27",
   "metadata": {},
   "source": [
    "# Semifinals Women: IFSC WM in Bern 2023"
   ]
  },
  {
   "cell_type": "code",
   "execution_count": null,
   "id": "08b10ffd-c736-45fd-8eab-74e828b857e2",
   "metadata": {
    "tags": []
   },
   "outputs": [],
   "source": [
    "from pathlib import Path\n",
    "\n",
    "import pandas as pd\n",
    "import numpy as np\n",
    "import matplotlib.pyplot as plt\n",
    "import matplotlib\n",
    "import seaborn as sns\n",
    "from pandas.plotting import scatter_matrix"
   ]
  },
  {
   "cell_type": "code",
   "execution_count": null,
   "id": "a7ace8fe-bb57-48e4-9a53-aa512b76a858",
   "metadata": {},
   "outputs": [],
   "source": [
    "DATA_DIR_DATA = Path('data')\n",
    "OUTPUT_DIR_PATH = Path('output/data_exploration')"
   ]
  },
  {
   "cell_type": "code",
   "execution_count": null,
   "id": "ea0212f9-da0d-4e07-a494-c8e5a49bb452",
   "metadata": {
    "tags": []
   },
   "outputs": [],
   "source": [
    "df = pd.read_csv(DATA_DIR_DATA / \"women_data.csv\", delimiter=\";\", encoding=\"ISO-8859-1\", skipfooter=1,\n",
    "    engine='python')"
   ]
  },
  {
   "cell_type": "code",
   "execution_count": null,
   "id": "610bf1c2-53da-4bd6-9f67-9ca677f789c2",
   "metadata": {},
   "outputs": [],
   "source": [
    "df.head()"
   ]
  },
  {
   "cell_type": "code",
   "execution_count": null,
   "id": "ec002292-341f-44d7-bdd7-2629319430ee",
   "metadata": {},
   "outputs": [],
   "source": [
    "def set_matplotlib_rc() -> None:\n",
    "    \"\"\"Basically set font settings etc. for nice looking figures.\"\"\"\n",
    "    matplotlib.rcParams.update({'text.usetex': False, 'font.family': 'stixgeneral', 'mathtext.fontset': 'stix', })\n",
    "    matplotlib.rcParams.update({'font.size': 12, 'legend.fontsize': 13})\n",
    "    font = {'weight': 'bold'}\n",
    "    matplotlib.rc('font', **font)\n",
    "\n",
    "    plt.rcParams['axes.linewidth'] = 2\n",
    "\n",
    "set_matplotlib_rc()"
   ]
  },
  {
   "cell_type": "markdown",
   "id": "14a930d5-79a0-4ea3-96d2-369e0751e0c1",
   "metadata": {},
   "source": [
    "## Height distribution"
   ]
  },
  {
   "cell_type": "code",
   "execution_count": null,
   "id": "59c2a442-b5b7-4449-8e2e-a0505fbfe38b",
   "metadata": {},
   "outputs": [],
   "source": [
    "def height_distribution_by_category(df):\n",
    "    # Set style for the plot\n",
    "    sns.set_style(\"white\")\n",
    "    \n",
    "    # Initialize the matplotlib figure\n",
    "    plt.figure(figsize=(8, 6))\n",
    "    \n",
    "    # Plot distribution of 'height [cm]' for all data with specified bin size to match the step of 2\n",
    "    bins = np.arange(150, 178, 2)  # Creates bins from 150 to 178 with a step of 2\n",
    "    sns.histplot(data=df, x=\"height [cm]\", hue=\"height category\", multiple=\"stack\", bins=bins,\n",
    "                 palette={\"short\": \"orange\", \"tall\": \"teal\"}, edgecolor=\".2\", linewidth=.5, alpha=0.7)\n",
    "    \n",
    "    # Customizing the plot\n",
    "    #plt.title('Height Distribution by Category', fontsize=18, fontweight='bold')\n",
    "    plt.xlabel('Height [cm]', fontsize=16)\n",
    "    plt.ylabel('Number of Athletes', fontsize=16)\n",
    "    plt.xticks(np.arange(150, 176, 5))  # Sets x-axis ticks to match the desired range and step\n",
    "    plt.legend(['tall', 'short'], title='Height Category', title_fontsize='13', fontsize='12')\n",
    "\n",
    "\n",
    "height_distribution_by_category(df)\n",
    "plt.savefig(OUTPUT_DIR_PATH / \"height_distribution.png\")\n",
    "plt.show()"
   ]
  },
  {
   "cell_type": "markdown",
   "id": "41ac39d5-48fd-4050-8083-1e73ce370bdb",
   "metadata": {},
   "source": [
    "## Correlation matrix athlete height and total score"
   ]
  },
  {
   "cell_type": "markdown",
   "id": "1e853928-a403-4dbd-982e-a76339d21556",
   "metadata": {},
   "source": [
    "### Correlation matrix"
   ]
  },
  {
   "cell_type": "code",
   "execution_count": null,
   "id": "133fe2ab-80c4-4f73-b22a-a1af6c55e5ea",
   "metadata": {
    "tags": []
   },
   "outputs": [],
   "source": [
    "import seaborn as sns\n",
    "import matplotlib.pyplot as plt\n",
    "import numpy as np\n",
    "\n",
    "\n",
    "def create_height_score_correlation_matrix(df: pd.DataFrame) -> None:\n",
    "    # Adjust the figure size for better clarity and space\n",
    "    plt.figure(figsize=(12, 10))\n",
    "\n",
    "    # Ensure category names in the DataFrame are correctly matched in the palette\n",
    "    unique_categories = df['height category'].unique()\n",
    "    # Create a palette that dynamically matches the DataFrame's categories\n",
    "    palette = {category: 'teal' if category.lower() == 'tall' else 'orange' for category in unique_categories}\n",
    "    \n",
    "    # Generate the pairplot with the specified color palette\n",
    "    pairplot = sns.pairplot(df, vars=[\"height [cm]\", \"Total Score\"], hue=\"height category\", diag_kind=\"kde\", palette=palette, height=3.5, plot_kws={'alpha':0.5})\n",
    "\n",
    "    # Find the top scoring athletes\n",
    "    top = df.nlargest(3, 'Total Score')\n",
    "\n",
    "    # Define offsets for better text annotation visibility\n",
    "    vertical_offset_scale = 2.0  # Increased vertical spread\n",
    "    horizontal_offset_constant = 0.5  # Small constant offset to the right\n",
    "\n",
    "    # Annotate each subplot with the top athletes' names, applying offsets\n",
    "    for i, athlete in top.iterrows():\n",
    "        x_height = athlete['height [cm]'] + horizontal_offset_constant\n",
    "        y_score = athlete['Total Score'] + np.random.uniform(-vertical_offset_scale, vertical_offset_scale)\n",
    "        name = athlete['name']\n",
    "\n",
    "        for j in range(2):\n",
    "            for k in range(2):\n",
    "                if j != k:  # Skip the diagonal plots\n",
    "                    ax = pairplot.axes[j][k]\n",
    "                    x, y = (x_height, y_score) if k == 0 else (y_score + horizontal_offset_constant, x_height + np.random.uniform(-vertical_offset_scale, vertical_offset_scale))\n",
    "                    ax.text(x, y, name, horizontalalignment='left', size=13, color='black', weight='normal')"
   ]
  },
  {
   "cell_type": "code",
   "execution_count": null,
   "id": "8229979e-803b-4222-87ba-059ce7511735",
   "metadata": {},
   "outputs": [],
   "source": [
    "create_height_score_correlation_matrix(df)\n",
    "plt.savefig(OUTPUT_DIR_PATH / \"height_score_correlation_matrix.png\")\n",
    "plt.show()"
   ]
  },
  {
   "cell_type": "markdown",
   "id": "3bee4415-b4b8-4013-ae91-af2381e8bf58",
   "metadata": {},
   "source": [
    "### Scatter plot"
   ]
  },
  {
   "cell_type": "code",
   "execution_count": null,
   "id": "09214ce9-2777-4c59-9242-b4fc7101e908",
   "metadata": {},
   "outputs": [],
   "source": [
    "def create_height_score_scatter_plot(df: pd.DataFrame) -> None:\n",
    "    # Set plot style\n",
    "    sns.set_style(\"whitegrid\")\n",
    "    \n",
    "    # Create a figure and axis with specific size\n",
    "    plt.figure(figsize=(8, 6))\n",
    "    \n",
    "    # Categorize height\n",
    "    df['Category'] = np.where(df['height [cm]'] > 161, 'tall', 'short')\n",
    "    \n",
    "    # Define colors for categories\n",
    "    color_map = {'short': 'orange', 'tall': 'teal'}\n",
    "    \n",
    "    # Scatter plot for each category\n",
    "    for category, color in color_map.items():\n",
    "        subset = df[df['Category'] == category]\n",
    "        plt.scatter(subset['height [cm]'], subset['Total Score'], alpha=0.7, color=color, label=category, s=100, edgecolor='k', linewidth=0.5)\n",
    "    \n",
    "    # Vertical line at 161 cm\n",
    "    plt.axvline(x=161, color='dimgrey', linestyle='--', label='Threshold (tall: > 161 cm)', linewidth=2)\n",
    "    \n",
    "    # Set x-axis and y-axis ticks\n",
    "    plt.xticks(np.arange(145, 181, 5))\n",
    "    plt.yticks(np.arange(0, 101, 10))\n",
    "    \n",
    "    # Label axes and set title\n",
    "    plt.xlabel('Height [cm]', fontsize=14)\n",
    "    plt.ylabel('Score', fontsize=14)\n",
    "    #plt.title('Scatter Plot of Total Score vs. Height with Categories and Enhanced Layout', fontsize=16)\n",
    "    \n",
    "    # Customize legend\n",
    "    plt.legend(frameon=True, fontsize=12, loc='upper right')\n",
    "    \n",
    "    # Show gridlines for better readability\n",
    "    plt.grid(True, which='both', linestyle='--', linewidth=0.5)\n",
    "    \n",
    "    # Optionally, tighten the layout\n",
    "    plt.tight_layout()"
   ]
  },
  {
   "cell_type": "code",
   "execution_count": null,
   "id": "449d395e-f2fb-4df8-a8d6-6729bb0ab4e3",
   "metadata": {},
   "outputs": [],
   "source": [
    "create_height_score_scatter_plot(df)\n",
    "plt.savefig(OUTPUT_DIR_PATH / \"height_score_scatter_plot.png\")\n",
    "plt.show()"
   ]
  },
  {
   "cell_type": "markdown",
   "id": "08d2bba6-1802-4373-b808-1b28503ed3cf",
   "metadata": {},
   "source": [
    "### Violin plot"
   ]
  },
  {
   "cell_type": "markdown",
   "id": "f55fe229-3c28-4501-948b-00a57ffd4a03",
   "metadata": {},
   "source": [
    "#### Individual violin plots for height categories"
   ]
  },
  {
   "cell_type": "code",
   "execution_count": null,
   "id": "3132bc41-e994-4f59-878e-0339a132dd8c",
   "metadata": {},
   "outputs": [],
   "source": [
    "def create_violin_plots(df: pd.DataFrame) -> None:\n",
    "    # Set plot style\n",
    "    sns.set_style(\"whitegrid\")\n",
    "    \n",
    "    # Ensure 'height category' is a categorical type with a specific order\n",
    "    df['height category'] = pd.Categorical(df['height category'], categories=['short', 'tall'], ordered=True)\n",
    "\n",
    "    # Ensure the order of categories with 'order' parameter in seaborn's violinplot\n",
    "    category_order = ['short', 'tall']  # This will ensure Short is on the left, Tall on the right\n",
    "    \n",
    "    # Create a figure and axis with specific size\n",
    "    plt.figure(figsize=(10, 6))\n",
    "    \n",
    "    # Generate violin plots for each height category in the specified order\n",
    "    sns.violinplot(x='height category', y='Total Score', data=df, order=category_order, split=False, inner='quartile', \n",
    "                   palette={'short': 'orange', 'tall': 'teal'}, cut=0)\n",
    "    \n",
    "    # Adjust y-axis limits and ticks for score range\n",
    "    plt.ylim(-10, 110)\n",
    "    plt.yticks(np.arange(0, 101, 10))\n",
    "    \n",
    "    # Customizing the plot\n",
    "    plt.xlabel('Height Category', fontsize=14)\n",
    "    plt.ylabel('Score', fontsize=14)\n",
    "    #plt.title('Total Score Distribution by Height Category', fontsize=16)\n",
    "\n",
    "\n",
    "create_violin_plots(df)\n",
    "plt.savefig(OUTPUT_DIR_PATH / \"height_score_violin_plot.png\")\n",
    "plt.show()"
   ]
  },
  {
   "cell_type": "markdown",
   "id": "4c3bfc6c-7c3b-456a-af6a-b970d6aed777",
   "metadata": {},
   "source": [
    "#### Split violin plot"
   ]
  },
  {
   "cell_type": "code",
   "execution_count": null,
   "id": "0ec08b93-5c37-4196-aa80-227641b9efdf",
   "metadata": {},
   "outputs": [],
   "source": [
    "def create_split_violin_plot(df: pd.DataFrame) -> None:\n",
    "    # Set plot style\n",
    "    sns.set_style(\"whitegrid\")\n",
    "\n",
    "    # Ensure 'height category' is a categorical type with a specific order\n",
    "    df['height category'] = pd.Categorical(df['height category'], categories=['short', 'tall'], ordered=True)\n",
    "\n",
    "    # Create a figure and axis with a specific size\n",
    "    plt.figure(figsize=(10, 6))\n",
    "\n",
    "    # Generate a split violin plot with the specified color palette\n",
    "    ax = sns.violinplot(data=df, x=\"height category\", y=\"Total Score\", hue=\"height category\",\n",
    "                        split=True, inner=\"quart\", palette={'short': 'orange', 'tall': 'teal'}, cut=0)\n",
    "\n",
    "    # Adjust y-axis limits and ticks for the score range, adding some buffer space\n",
    "    plt.ylim(-10, 110)\n",
    "    plt.yticks(np.arange(0, 101, 10))\n",
    "\n",
    "    # Customize the plot\n",
    "    plt.xlabel('Height Category', fontsize=14)\n",
    "    plt.ylabel('Score', fontsize=14)\n",
    "    #plt.title('Total Score Distribution by Height Category', fontsize=16)\n",
    "\n",
    "create_split_violin_plot(df)\n",
    "plt.show()"
   ]
  },
  {
   "cell_type": "markdown",
   "id": "5b8bec9c-b617-4b2e-8141-142bd1e4c18f",
   "metadata": {},
   "source": [
    "## Looking at Tops and Zones per height category"
   ]
  },
  {
   "cell_type": "markdown",
   "id": "ddff0ab3-dd7a-49fa-9a2d-c067d32b7237",
   "metadata": {
    "tags": []
   },
   "source": [
    "### Number of Tops per boulder per height category"
   ]
  },
  {
   "cell_type": "code",
   "execution_count": null,
   "id": "bb76de6b-4812-488f-a4dc-7f8f986b4433",
   "metadata": {
    "tags": []
   },
   "outputs": [],
   "source": [
    "def tops_per_boulder_per_height_category(df):\n",
    "    # Splitting the DataFrame based on 'height category'\n",
    "    df_tall = df[df['height category'] == 'tall']\n",
    "    df_short = df[df['height category'] == 'short']\n",
    "    \n",
    "    # Counting the tops for each boulder\n",
    "    boulders = ['W1 25', 'W2 25', 'W3 25', 'W4 25']\n",
    "    \n",
    "    # Initialize a dictionary to store the sums\n",
    "    tops_sum = {'Boulder': boulders, 'short': [], 'tall': []}\n",
    "    \n",
    "    for boulder in boulders:\n",
    "        tops_sum['short'].append(df_short[boulder].sum())\n",
    "        tops_sum['tall'].append(df_tall[boulder].sum())\n",
    "        \n",
    "    # Adjust the 'Boulder' key in the tops_sum dictionary to simplified names\n",
    "    tops_sum['Boulder'] = [boulder.replace(\" 25\", \"\") for boulder in boulders]\n",
    "    \n",
    "    # Now, when you convert this dictionary to a DataFrame, the boulder names will be simplified\n",
    "    tops_sum_df = pd.DataFrame(tops_sum)\n",
    "    \n",
    "    # Plotting the bar plot\n",
    "    colors = ['orange', 'teal']  # short then tall if the DataFrame columns are in that order\n",
    "    ax = tops_sum_df.plot(x='Boulder', kind='bar', figsize=(10, 6), width=0.8, rot=0, color=colors)\n",
    "    \n",
    "    #plt.title('Total Tops per Boulder by Height Category')\n",
    "    plt.xlabel('Boulder')\n",
    "    plt.ylabel('Number of Tops')\n",
    "    \n",
    "    # Set y-ticks range\n",
    "    plt.ylim(0, 6)\n",
    "    plt.yticks(np.arange(0, 6, 1))\n",
    "    \n",
    "    # Enable only horizontal grid lines\n",
    "    ax.yaxis.grid(True)  # Enable the y-axis grid lines\n",
    "    ax.xaxis.grid(False)  # Disable the x-axis grid lines\n",
    "    \n",
    "    plt.legend(title='Athlete Height Category')\n",
    "    plt.tight_layout()\n",
    "\n",
    "\n",
    "tops_per_boulder_per_height_category(df)\n",
    "plt.savefig(OUTPUT_DIR_PATH / \"tops_per_boulder_by_heightcategory.png\")\n",
    "plt.show()"
   ]
  },
  {
   "cell_type": "markdown",
   "id": "f743c1c1-632d-4a96-af61-ab37f3910989",
   "metadata": {},
   "source": [
    "### One bar plot per boulder: How many reached Zone 1, Zone 2 and the Top per height category"
   ]
  },
  {
   "cell_type": "code",
   "execution_count": null,
   "id": "88c5357e-0824-4d47-a0d2-3240834d808c",
   "metadata": {},
   "outputs": [],
   "source": [
    "def zones_and_tops_per_height_category_2x2(df):\n",
    "    # Splitting the DataFrame based on 'height category'\n",
    "    df_tall = df[df['height category'] == 'tall']\n",
    "    df_short = df[df['height category'] == 'short']\n",
    "    \n",
    "    # Boulders and their zones\n",
    "    boulders_zones = {\n",
    "        'W1': ['W1 5', 'W1 10', 'W1 25'],\n",
    "        'W2': ['W2 5', 'W2 10', 'W2 25'],\n",
    "        'W3': ['W3 5', 'W3 10', 'W3 25'],\n",
    "        'W4': ['W4 5', 'W4 10', 'W4 25'],\n",
    "    }\n",
    "    \n",
    "    # Create a 2x2 subplot structure\n",
    "    fig, axs = plt.subplots(2, 2, figsize=(20, 12))  # Adjust the figsize as needed\n",
    "    fig.subplots_adjust(hspace=0.3, wspace=0.3)  # Adjust space between plots\n",
    "    \n",
    "    # Flatten the axs array for easy iteration\n",
    "    axs = axs.flatten()\n",
    "    \n",
    "    # Bar width\n",
    "    width = 0.35  # Width of the bars, you can adjust this as needed\n",
    "    \n",
    "    # Iterate over each boulder and its zones\n",
    "    for i, (boulder, zones) in enumerate(boulders_zones.items()):\n",
    "        tops_sum = {'Zone': ['Zone 1', 'Zone 2', 'Top'], 'short': [], 'tall': []}\n",
    "        \n",
    "        for zone in zones:\n",
    "            tops_sum['short'].append(df_short[zone].sum())\n",
    "            tops_sum['tall'].append(df_tall[zone].sum())\n",
    "        \n",
    "        # Convert the dictionary to a DataFrame\n",
    "        tops_sum_df = pd.DataFrame(tops_sum)\n",
    "        \n",
    "        # X locations for the groups\n",
    "        ind = np.arange(len(tops_sum_df['Zone']))  # the x locations for the groups\n",
    "        \n",
    "        # Plotting the bar plot for each boulder in its subplot\n",
    "        axs[i].bar(ind - width/2, tops_sum_df['short'], width, label='short', color='orange')\n",
    "        axs[i].bar(ind + width/2, tops_sum_df['tall'], width, label='tall', color='teal')\n",
    "        \n",
    "        axs[i].set_title(f'Zone Achievement by Height Category for {boulder}')\n",
    "        axs[i].set_ylabel('Number of Athletes')\n",
    "        axs[i].set_ylim(0, 14)  # Set y-limit to 0-14 as requested\n",
    "        axs[i].set_xticks(ind)\n",
    "        axs[i].set_xticklabels(tops_sum_df['Zone'])\n",
    "        axs[i].legend(title='Height Category')\n",
    "\n",
    "        # Enable only horizontal grid lines\n",
    "        axs[i].yaxis.grid(True)  # Enable the y-axis grid lines\n",
    "        axs[i].xaxis.grid(False)  # Disable the x-axis grid lines\n",
    "\n",
    "    plt.tight_layout()\n",
    "\n",
    "\n",
    "zones_and_tops_per_height_category_2x2(df)\n",
    "plt.savefig(OUTPUT_DIR_PATH / \"zones_and_tops_per_height_category.png\")\n",
    "plt.show()"
   ]
  }
 ],
 "metadata": {
  "kernelspec": {
   "display_name": "Python 3 (ipykernel)",
   "language": "python",
   "name": "python3"
  },
  "language_info": {
   "codemirror_mode": {
    "name": "ipython",
    "version": 3
   },
   "file_extension": ".py",
   "mimetype": "text/x-python",
   "name": "python",
   "nbconvert_exporter": "python",
   "pygments_lexer": "ipython3",
   "version": "3.10.4"
  }
 },
 "nbformat": 4,
 "nbformat_minor": 5
}
