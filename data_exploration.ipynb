{
 "cells": [
  {
   "cell_type": "markdown",
   "id": "507aa3c8-5a71-4b30-8f8c-b56c27d0ae27",
   "metadata": {},
   "source": [
    "# Semifinals Women: IFSC WM in Bern 2023"
   ]
  },
  {
   "cell_type": "code",
   "execution_count": null,
   "id": "08b10ffd-c736-45fd-8eab-74e828b857e2",
   "metadata": {
    "tags": []
   },
   "outputs": [],
   "source": [
    "from pathlib import Path\n",
    "\n",
    "import pandas as pd\n",
    "import numpy as np\n",
    "import matplotlib.pyplot as plt\n",
    "import seaborn as sns\n",
    "from pandas.plotting import scatter_matrix"
   ]
  },
  {
   "cell_type": "code",
   "execution_count": null,
   "id": "a7ace8fe-bb57-48e4-9a53-aa512b76a858",
   "metadata": {},
   "outputs": [],
   "source": [
    "DATA_DIR_DATA = Path('data')\n",
    "OUTPUT_DIR_PATH = Path('output')"
   ]
  },
  {
   "cell_type": "code",
   "execution_count": null,
   "id": "ea0212f9-da0d-4e07-a494-c8e5a49bb452",
   "metadata": {
    "tags": []
   },
   "outputs": [],
   "source": [
    "df = pd.read_csv(DATA_DIR_DATA / \"women_data.csv\", delimiter=\";\", encoding=\"ISO-8859-1\", skipfooter=1)"
   ]
  },
  {
   "cell_type": "markdown",
   "id": "14a930d5-79a0-4ea3-96d2-369e0751e0c1",
   "metadata": {},
   "source": [
    "## Height distribution"
   ]
  },
  {
   "cell_type": "code",
   "execution_count": null,
   "id": "8be1cae4-4682-4898-a1f9-03633e9dbadd",
   "metadata": {
    "tags": []
   },
   "outputs": [],
   "source": [
    "_ = sns.histplot(df.loc[:, \"height [cm]\"], bins=10)"
   ]
  },
  {
   "cell_type": "markdown",
   "id": "41ac39d5-48fd-4050-8083-1e73ce370bdb",
   "metadata": {},
   "source": [
    "## Correlation matrix athlete height and total score"
   ]
  },
  {
   "cell_type": "code",
   "execution_count": null,
   "id": "133fe2ab-80c4-4f73-b22a-a1af6c55e5ea",
   "metadata": {
    "tags": []
   },
   "outputs": [],
   "source": [
    "import seaborn as sns\n",
    "import matplotlib.pyplot as plt\n",
    "import numpy as np\n",
    "\n",
    "\n",
    "def create_height_total_score_scatter_plot(df: pd.DataFrame) -> None:\n",
    "    # Adjust the figure size for better clarity and space\n",
    "    plt.figure(figsize=(12, 10))\n",
    "\n",
    "    # Generate the pairplot\n",
    "    pairplot = sns.pairplot(df, vars=[\"height [cm]\", \"Total Score\"], hue=\"height category\", diag_kind=\"kde\", height=3.5, plot_kws={'alpha':0.5})\n",
    "    #plt.suptitle('Scatter Matrix for Height and Total Score by Height Category', y=1.02)\n",
    "\n",
    "    # Find the top 5 scoring athletes\n",
    "    top = df.nlargest(3, 'Total Score')\n",
    "\n",
    "    # Define offsets for better text annotation visibility\n",
    "    vertical_offset_scale = 2.0  # Increased vertical spread\n",
    "    horizontal_offset_constant = 0.5  # Small constant offset to the right\n",
    "\n",
    "    # Annotate each subplot with the top 5 athletes' names, applying offsets\n",
    "    for i, athlete in top.iterrows():\n",
    "        # Apply a random vertical offset and a small horizontal offset\n",
    "        x_height = athlete['height [cm]'] + horizontal_offset_constant\n",
    "        y_score = athlete['Total Score'] + np.random.uniform(-vertical_offset_scale, vertical_offset_scale)\n",
    "        name = athlete['name']\n",
    "\n",
    "        # Iterate over the axes to annotate the plots\n",
    "        for j in range(2):  # Adjust based on the number of variables\n",
    "            for k in range(2):  # Same here\n",
    "                if j != k:  # Skip the diagonal plots\n",
    "                    ax = pairplot.axes[j][k]\n",
    "\n",
    "                    # Determine the position for the annotation based on the subplot\n",
    "                    if k == 0:  # Column for 'height [cm]'\n",
    "                        x = x_height\n",
    "                        y = y_score\n",
    "                    else:  # Column for 'Total Score'\n",
    "                        x = y_score + horizontal_offset_constant  # Apply horizontal offset here as well\n",
    "                        y = x_height + np.random.uniform(-vertical_offset_scale, vertical_offset_scale)  # Apply vertical offset\n",
    "\n",
    "                    # Add the annotation with adjustments\n",
    "                    ax.text(x, y, name, horizontalalignment='left', size='small', color='black', weight='normal')\n",
    "\n",
    "create_height_total_score_scatter_plot(df)\n",
    "plt.savefig(OUTPUT_DIR_PATH / \"height_score_correlation.png\")\n",
    "plt.show()"
   ]
  },
  {
   "cell_type": "markdown",
   "id": "ddff0ab3-dd7a-49fa-9a2d-c067d32b7237",
   "metadata": {
    "tags": []
   },
   "source": [
    "## Number of Tops per boulder per height category"
   ]
  },
  {
   "cell_type": "code",
   "execution_count": null,
   "id": "bb76de6b-4812-488f-a4dc-7f8f986b4433",
   "metadata": {
    "tags": []
   },
   "outputs": [],
   "source": [
    "# Splitting the DataFrame based on 'height category'\n",
    "df_tall = df[df['height category'] == 'tall']\n",
    "df_short = df[df['height category'] == 'short']\n",
    "\n",
    "# Counting the tops for each boulder\n",
    "boulders = ['W1 25', 'W2 25', 'W3 25', 'W4 25']\n",
    "\n",
    "# Initialize a dictionary to store the sums\n",
    "tops_sum = {'Boulder': boulders, 'Tall': [], 'Short': []}\n",
    "\n",
    "for boulder in boulders:\n",
    "    tops_sum['Tall'].append(df_tall[boulder].sum())\n",
    "    tops_sum['Short'].append(df_short[boulder].sum())\n",
    "\n",
    "# Adjust the 'Boulder' key in the tops_sum dictionary to simplified names\n",
    "tops_sum['Boulder'] = [boulder.replace(\" 25\", \"\") for boulder in boulders]\n",
    "\n",
    "# Now, when you convert this dictionary to a DataFrame, the boulder names will be simplified\n",
    "tops_sum_df = pd.DataFrame(tops_sum)"
   ]
  },
  {
   "cell_type": "code",
   "execution_count": null,
   "id": "34d82882-9a17-4edb-ac11-a2ecde0fd14c",
   "metadata": {
    "tags": []
   },
   "outputs": [],
   "source": [
    "# Plotting the bar plot\n",
    "ax = tops_sum_df.plot(x='Boulder', kind='bar', figsize=(10, 6), width=0.8, rot=0, )\n",
    "\n",
    "#plt.title('Total Tops per Boulder by Height Category')\n",
    "plt.xlabel('Boulder')\n",
    "plt.ylabel('Total Tops')\n",
    "\n",
    "# Set y-ticks range\n",
    "plt.yticks(range(0, 6))\n",
    "\n",
    "# Remove the grid\n",
    "ax.grid(False)\n",
    "\n",
    "plt.legend(title='Height Category')\n",
    "plt.tight_layout()\n",
    "\n",
    "plt.savefig(OUTPUT_DIR_PATH / \"tops_per_boulder_by_heightcategory.png\")\n",
    "plt.show()"
   ]
  },
  {
   "cell_type": "code",
   "execution_count": null,
   "id": "04faaaf7-945c-4148-9950-14581191fb07",
   "metadata": {},
   "outputs": [],
   "source": []
  }
 ],
 "metadata": {
  "kernelspec": {
   "display_name": "Python 3 (ipykernel)",
   "language": "python",
   "name": "python3"
  },
  "language_info": {
   "codemirror_mode": {
    "name": "ipython",
    "version": 3
   },
   "file_extension": ".py",
   "mimetype": "text/x-python",
   "name": "python",
   "nbconvert_exporter": "python",
   "pygments_lexer": "ipython3",
   "version": "3.10.4"
  }
 },
 "nbformat": 4,
 "nbformat_minor": 5
}
