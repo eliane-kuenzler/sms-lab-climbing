{
 "cells": [
  {
   "cell_type": "markdown",
   "metadata": {},
   "source": [
    "# Label Frequencies and Analysis"
   ]
  },
  {
   "cell_type": "code",
   "execution_count": null,
   "metadata": {},
   "outputs": [],
   "source": [
    "from pathlib import Path\n",
    "\n",
    "import pandas as pd\n",
    "import numpy as np\n",
    "import matplotlib.pyplot as plt\n",
    "import matplotlib\n",
    "import seaborn as sns"
   ]
  },
  {
   "cell_type": "code",
   "execution_count": null,
   "metadata": {},
   "outputs": [],
   "source": [
    "OUTPUT_DIR_PATH = Path('../../output/label_frequencies')"
   ]
  },
  {
   "cell_type": "code",
   "execution_count": null,
   "metadata": {},
   "outputs": [],
   "source": [
    "binary_df = pd.read_csv('../../data/dataframes/binary_labels.csv')"
   ]
  },
  {
   "cell_type": "code",
   "execution_count": null,
   "metadata": {},
   "outputs": [],
   "source": [
    "binary_df.head()"
   ]
  },
  {
   "cell_type": "markdown",
   "metadata": {},
   "source": [
    "## Analyze Label Frequency"
   ]
  },
  {
   "cell_type": "markdown",
   "metadata": {},
   "source": [
    "### How many labels are there and how much of them are of interest?"
   ]
  },
  {
   "cell_type": "code",
   "execution_count": null,
   "metadata": {},
   "outputs": [],
   "source": [
    "# Calculate the total number of labels\n",
    "total_labels = binary_df.drop(['boulder', 'camera', 'participant', 'repetition'], axis=1).sum().sum()\n",
    "\n",
    "# Calculate the total number of 'no_movement_of_interest' labels\n",
    "no_movement_of_interest_count = binary_df['no_movement_of_interest'].sum()\n",
    "\n",
    "# Calculate the percentage of 'no_movement_of_interest'\n",
    "percentage_no_movement = (no_movement_of_interest_count / total_labels) * 100\n",
    "\n",
    "print(\"Total number of labels:\", total_labels)\n",
    "print(\"Number of 'no_movement_of_interest' labels:\", no_movement_of_interest_count)\n",
    "print(\"Percentage of 'no_movement_of_interest': {:.2f}%\".format(percentage_no_movement))\n",
    "\n",
    "# Plotting\n",
    "fig, ax = plt.subplots(nrows=1, ncols=2, figsize=(14, 6))\n",
    "\n",
    "# Bar chart for counts\n",
    "bars = ax[0].bar(['Total Labels', 'No Movement of Interest'], [total_labels, no_movement_of_interest_count], color=['orange', 'teal'], width=0.5)  # Narrower bars\n",
    "ax[0].set_title('Label Counts', fontsize=14)\n",
    "ax[0].set_ylabel('Number of Labels', fontsize=12)\n",
    "ax[0].set_ylim(0, total_labels + 0.1 * total_labels)  # Setting y-limit slightly higher for better visualization\n",
    "\n",
    "# Font size for bar labels\n",
    "for bar in bars:\n",
    "    yval = bar.get_height()\n",
    "    ax[0].text(bar.get_x() + bar.get_width()/2, yval, int(yval), va='bottom', ha='center', fontsize=12)  # va: vertical alignment, ha: horizontal alignment\n",
    "\n",
    "# Pie chart for percentage\n",
    "labels = 'No Movement of Interest', 'Other Labels'\n",
    "sizes = [percentage_no_movement, 100 - percentage_no_movement]\n",
    "colors = ['teal', 'orange']\n",
    "explode = (0.1, 0)  # explode first slice\n",
    "\n",
    "ax[1].pie(sizes, explode=explode, labels=labels, colors=colors, autopct='%1.1f%%', shadow=True, startangle=140, textprops={'fontsize': 12})\n",
    "ax[1].set_title('Percentage of No Movement of Interest', fontsize=14)\n",
    "\n",
    "# Show plot\n",
    "plt.tight_layout()\n",
    "plt.savefig(OUTPUT_DIR_PATH / \"labels_of_interest\")\n",
    "plt.show()"
   ]
  },
  {
   "cell_type": "markdown",
   "metadata": {},
   "source": [
    "### Label Frequency Over All Boulders"
   ]
  },
  {
   "cell_type": "code",
   "execution_count": null,
   "metadata": {},
   "outputs": [],
   "source": [
    "# Analyze label frequencies\n",
    "label_freq = binary_df.drop(['boulder', 'camera', 'participant', 'repetition'], axis=1).sum().sort_values(ascending=False)\n",
    "print(\"Label Frequencies:\\n\", label_freq)"
   ]
  },
  {
   "cell_type": "code",
   "execution_count": null,
   "metadata": {},
   "outputs": [],
   "source": [
    "# Analyze label frequencies, excluding 'no_movement_of_interest' and counts of zero\n",
    "label_frequencies = binary_df.drop(['boulder', 'camera', 'participant', 'repetition', 'no_movement_of_interest', 'before_start_position', 'start_position'], axis=1).sum().sort_values(ascending=False)\n",
    "label_frequencies = label_frequencies[label_frequencies > 0]  # Filter out labels with zero occurrences\n",
    "\n",
    "# Plotting\n",
    "plt.figure(figsize=(12, 8))\n",
    "bars = plt.bar(label_frequencies.index, label_frequencies.values, color='teal')\n",
    "plt.title('Label Frequencies', fontsize=14)\n",
    "plt.ylabel('Frequency: Number of Frames', fontsize=12)\n",
    "plt.xticks(rotation=45, ha=\"right\", fontsize=10)  # Rotate labels for better visibility\n",
    "plt.tight_layout()\n",
    "\n",
    "# Optional: Add text labels above bars\n",
    "for bar in bars:\n",
    "    yval = bar.get_height()\n",
    "    plt.text(bar.get_x() + bar.get_width()/2, yval, int(yval), ha='center', va='bottom', fontsize=10)\n",
    "\n",
    "plt.savefig(OUTPUT_DIR_PATH / \"label_frequencies\")\n",
    "plt.show()"
   ]
  },
  {
   "cell_type": "markdown",
   "metadata": {},
   "source": [
    "### Label Frequencies per Boulder"
   ]
  },
  {
   "cell_type": "code",
   "execution_count": null,
   "metadata": {},
   "outputs": [],
   "source": [
    "# Group by 'boulder' and sum up the occurrences of each label\n",
    "boulder_label_frequencies = binary_df.groupby('boulder').sum()\n",
    "\n",
    "# List of boulders\n",
    "boulders = ['W1', 'W2', 'W3', 'W4']\n",
    "\n",
    "# Plotting\n",
    "fig, axes = plt.subplots(nrows=2, ncols=2, figsize=(20, 12))  # Adjust subplot grid as needed\n",
    "axes = axes.flatten()  # Flatten the axes array for easier iteration\n",
    "\n",
    "for i, boulder in enumerate(boulders):\n",
    "    # Selecting data for each boulder\n",
    "    data = boulder_label_frequencies.loc[boulder].drop(['camera', 'participant', 'repetition', 'no_movement_of_interest', 'before_start_position', 'start_position'])  # Exclude 'no_movement_of_interest' and non-label columns\n",
    "    data = data[data > 0]  # Filter out labels with zero occurrences\n",
    "    data.sort_values(ascending=False, inplace=True)  # Sort data to make the plot more informative\n",
    "    \n",
    "    # Bar plot for each boulder\n",
    "    axes[i].bar(data.index, data.values, color='teal')\n",
    "    axes[i].set_title(f'Label Frequencies for {boulder}', fontsize=14)\n",
    "    axes[i].set_ylabel('Frequency: Number of Frames', fontsize=12)\n",
    "    axes[i].tick_params(axis='x', rotation=45)  # Rotate labels for better visibility\n",
    "\n",
    "plt.tight_layout()\n",
    "plt.savefig(OUTPUT_DIR_PATH / \"label_frequencies_per_boulder\")\n",
    "plt.show()\n"
   ]
  },
  {
   "cell_type": "code",
   "execution_count": null,
   "metadata": {},
   "outputs": [],
   "source": [
    "# Group by 'boulder' and sum up the occurrences of each label\n",
    "boulder_label_freq = binary_df.groupby('boulder').sum()\n",
    "\n",
    "# List of boulders\n",
    "boulders = ['W1', 'W2', 'W3', 'W4']\n",
    "\n",
    "# Calculating and printing the ratio of 'no_movement_of_interest' to other movements per boulder\n",
    "ratios = {}\n",
    "for boulder in boulders:\n",
    "    no_movement_of_interest_count = boulder_label_freq.at[boulder, 'no_movement_of_interest']\n",
    "    total_other_labels_count = boulder_label_freq.loc[boulder].drop(['camera', 'participant', 'repetition', 'no_movement_of_interest']).sum()\n",
    "    ratio = (no_movement_of_interest_count / total_other_labels_count) if total_other_labels_count != 0 else 0  # Avoid division by zero\n",
    "    ratios[boulder] = ratio * 100  # Convert ratio to percentage\n",
    "\n",
    "    print(f\"Percentage of 'no_movement_of_interest' to other labels for {boulder}: {ratios[boulder]:.2f}%\")\n"
   ]
  }
 ],
 "metadata": {
  "kernelspec": {
   "display_name": "Python 3 (ipykernel)",
   "language": "python",
   "name": "python3"
  },
  "language_info": {
   "codemirror_mode": {
    "name": "ipython",
    "version": 3
   },
   "file_extension": ".py",
   "mimetype": "text/x-python",
   "name": "python",
   "nbconvert_exporter": "python",
   "pygments_lexer": "ipython3",
   "version": "3.10.4"
  }
 },
 "nbformat": 4,
 "nbformat_minor": 4
}
